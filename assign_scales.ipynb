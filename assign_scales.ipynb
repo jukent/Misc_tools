{
 "cells": [
  {
   "cell_type": "code",
   "execution_count": 17,
   "metadata": {},
   "outputs": [],
   "source": [
    "import numpy as np\n",
    "import random\n",
    "import ipywidgets as widgets\n",
    "from ipywidgets import interact, interactive, fixed, interact_manual, Layout"
   ]
  },
  {
   "cell_type": "code",
   "execution_count": 5,
   "metadata": {},
   "outputs": [],
   "source": [
    "def assign_scales(number_of_scales, Modality):\n",
    "    \"\"\"\n",
    "    number_of_scales: defines how many scales will be listed\n",
    "    \n",
    "    modality: must enter key from list [0: 'Major', 1: 'Natural Minor', \n",
    "    2: 'Harmonic Minor', 3: 'Melodic Minor', 4: 'All Modalities']\n",
    "    \"\"\"\n",
    "    tonic = ['C#', 'F#', 'B', 'E', 'A', 'G', 'C', 'F', 'B♭', 'E♭', 'A♭', \\\n",
    "             'D♭', 'G♭', 'C♭']\n",
    "    modes = [' Major', ' Natural Minor', ' Harmonic Minor', ' Melodic Minor']\n",
    "\n",
    "    assert any(np.arange(0,len(modes)+1) == Modality), \\\n",
    "           'Input modality must be a number from 0 to ' + str(len(modes)) + \\\n",
    "           '. See documentation for key assignment'\n",
    "        \n",
    "    possible_scales = np.ravel([[t + modes[m] for t in tonic] for m in \\\n",
    "                                  np.arange(0,len(modes))]) if Modality == 4 \\\n",
    "                                  else [t + modes[Modality] for t in tonic]\n",
    "    \n",
    "    try:\n",
    "       scale_indices  = random.sample(range(0,len(possible_scales)),int(number_of_scales))\n",
    "       [print(possible_scales[i]) for i in scale_indices]\n",
    "    except ValueError:\n",
    "        print('Requested number of scales cannot exceed number of potential scales for chosen modality')\n",
    "        print('and must be a positive integer value (e.g.: 1, 2, 3, ... 14).')\n",
    "    return;"
   ]
  },
  {
   "cell_type": "code",
   "execution_count": 38,
   "metadata": {},
   "outputs": [],
   "source": [
    "style = {'description_width': 'initial'}\n",
    "w = interactive(assign_scales, \\\n",
    "                number_of_scales=widgets.Text(value='1', description='Number of Scales', style=style), \\\n",
    "                Modality=widgets.Dropdown(options=[('Major', 0), ('Natural Minor', 1), \\\n",
    "                ('Harmonic Minor', 2), ('Melodic Minor', 3), ('All', 4)]))"
   ]
  },
  {
   "cell_type": "code",
   "execution_count": 39,
   "metadata": {},
   "outputs": [
    {
     "data": {
      "application/vnd.jupyter.widget-view+json": {
       "model_id": "4b8e4f9b32b646efb225f3ae010d12a8",
       "version_major": 2,
       "version_minor": 0
      },
      "text/plain": [
       "interactive(children=(Text(value='1', description='Number of Scales', style=DescriptionStyle(description_width…"
      ]
     },
     "metadata": {},
     "output_type": "display_data"
    }
   ],
   "source": [
    "display(w)"
   ]
  },
  {
   "cell_type": "code",
   "execution_count": null,
   "metadata": {},
   "outputs": [],
   "source": []
  },
  {
   "cell_type": "code",
   "execution_count": null,
   "metadata": {},
   "outputs": [],
   "source": []
  }
 ],
 "metadata": {
  "kernelspec": {
   "display_name": "Python 3",
   "language": "python",
   "name": "python3"
  },
  "language_info": {
   "codemirror_mode": {
    "name": "ipython",
    "version": 3
   },
   "file_extension": ".py",
   "mimetype": "text/x-python",
   "name": "python",
   "nbconvert_exporter": "python",
   "pygments_lexer": "ipython3",
   "version": "3.7.1"
  }
 },
 "nbformat": 4,
 "nbformat_minor": 2
}
